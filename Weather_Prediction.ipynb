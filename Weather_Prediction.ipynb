{
 "cells": [
  {
   "cell_type": "markdown",
   "metadata": {},
   "source": [
    "Erst müssen einige Biblotheken heruntergeladen werden um die benötigte Funktionen zu implementieren\n"
   ]
  },
  {
   "cell_type": "code",
   "execution_count": 1,
   "metadata": {},
   "outputs": [],
   "source": [
    "import matplotlib.pyplot as plt\n",
    "import numpy as np\n",
    "import pandas as pd\n",
    "\n",
    "from sklearn.model_selection import train_test_split\n",
    "from sklearn.linear_model import LinearRegression\n",
    "from sklearn.preprocessing import PolynomialFeatures\n",
    "%matplotlib inline"
   ]
  },
  {
   "cell_type": "markdown",
   "metadata": {},
   "source": [
    "In Zweite Schritt werden die orginale Daten in das Programm importiert. Dies sind Orginale Daten und enthalten keine Manipulation oder Cleaning."
   ]
  },
  {
   "cell_type": "code",
   "execution_count": 2,
   "metadata": {},
   "outputs": [],
   "source": [
    "# Data for the CO2 mesurment.\n",
    "co2 = pd.read_csv('co2-mm-mlo_csv.csv', delimiter=',')\n",
    "# File tor the Average Temp mesurment\n",
    "file = pd.read_csv('GlobalLandTemperaturesByCountry.csv', delimiter=',')"
   ]
  },
  {
   "cell_type": "markdown",
   "metadata": {},
   "source": [
    "Beide Dataeinen wurden vom Kaggle heruntergeladen. Da die Datein als CSV gespeichert sind, enthalten die eine komma seperatur. Dies wird mit dem Befehl delimiter=',' sortiert. Pandas enthält die Funktion read_csv welches zunächst die Daten auf co2 bzw. auf file geschrieben hat"
   ]
  },
  {
   "cell_type": "code",
   "execution_count": 3,
   "metadata": {},
   "outputs": [],
   "source": [
    "co2_filter = co2[['Decimal Date','Trend']]\n",
    "\n",
    "\n",
    "dic = {\n",
    "    \"Datum\":[], \"Trend\":[], \"Average\":[]\n",
    "}\n"
   ]
  },
  {
   "cell_type": "code",
   "execution_count": 4,
   "metadata": {},
   "outputs": [
    {
     "data": {
      "text/html": [
       "<div>\n",
       "<style scoped>\n",
       "    .dataframe tbody tr th:only-of-type {\n",
       "        vertical-align: middle;\n",
       "    }\n",
       "\n",
       "    .dataframe tbody tr th {\n",
       "        vertical-align: top;\n",
       "    }\n",
       "\n",
       "    .dataframe thead th {\n",
       "        text-align: right;\n",
       "    }\n",
       "</style>\n",
       "<table border=\"1\" class=\"dataframe\">\n",
       "  <thead>\n",
       "    <tr style=\"text-align: right;\">\n",
       "      <th></th>\n",
       "      <th>Decimal Date</th>\n",
       "      <th>Average</th>\n",
       "      <th>Interpolated</th>\n",
       "      <th>Trend</th>\n",
       "      <th>Number of Days</th>\n",
       "    </tr>\n",
       "  </thead>\n",
       "  <tbody>\n",
       "    <tr>\n",
       "      <th>count</th>\n",
       "      <td>727.000000</td>\n",
       "      <td>727.000000</td>\n",
       "      <td>727.000000</td>\n",
       "      <td>727.000000</td>\n",
       "      <td>727.000000</td>\n",
       "    </tr>\n",
       "    <tr>\n",
       "      <th>mean</th>\n",
       "      <td>1988.458333</td>\n",
       "      <td>349.555846</td>\n",
       "      <td>353.640702</td>\n",
       "      <td>353.633054</td>\n",
       "      <td>18.341128</td>\n",
       "    </tr>\n",
       "    <tr>\n",
       "      <th>std</th>\n",
       "      <td>17.500926</td>\n",
       "      <td>52.068588</td>\n",
       "      <td>27.443136</td>\n",
       "      <td>27.369003</td>\n",
       "      <td>12.242015</td>\n",
       "    </tr>\n",
       "    <tr>\n",
       "      <th>min</th>\n",
       "      <td>1958.208000</td>\n",
       "      <td>-99.990000</td>\n",
       "      <td>312.660000</td>\n",
       "      <td>314.620000</td>\n",
       "      <td>-1.000000</td>\n",
       "    </tr>\n",
       "    <tr>\n",
       "      <th>25%</th>\n",
       "      <td>1973.333500</td>\n",
       "      <td>328.425000</td>\n",
       "      <td>328.555000</td>\n",
       "      <td>329.295000</td>\n",
       "      <td>-1.000000</td>\n",
       "    </tr>\n",
       "    <tr>\n",
       "      <th>50%</th>\n",
       "      <td>1988.458000</td>\n",
       "      <td>351.310000</td>\n",
       "      <td>351.310000</td>\n",
       "      <td>351.370000</td>\n",
       "      <td>24.000000</td>\n",
       "    </tr>\n",
       "    <tr>\n",
       "      <th>75%</th>\n",
       "      <td>2003.583500</td>\n",
       "      <td>375.700000</td>\n",
       "      <td>375.700000</td>\n",
       "      <td>376.135000</td>\n",
       "      <td>28.000000</td>\n",
       "    </tr>\n",
       "    <tr>\n",
       "      <th>max</th>\n",
       "      <td>2018.708000</td>\n",
       "      <td>411.240000</td>\n",
       "      <td>411.240000</td>\n",
       "      <td>409.020000</td>\n",
       "      <td>31.000000</td>\n",
       "    </tr>\n",
       "  </tbody>\n",
       "</table>\n",
       "</div>"
      ],
      "text/plain": [
       "       Decimal Date     Average  Interpolated       Trend  Number of Days\n",
       "count    727.000000  727.000000    727.000000  727.000000      727.000000\n",
       "mean    1988.458333  349.555846    353.640702  353.633054       18.341128\n",
       "std       17.500926   52.068588     27.443136   27.369003       12.242015\n",
       "min     1958.208000  -99.990000    312.660000  314.620000       -1.000000\n",
       "25%     1973.333500  328.425000    328.555000  329.295000       -1.000000\n",
       "50%     1988.458000  351.310000    351.310000  351.370000       24.000000\n",
       "75%     2003.583500  375.700000    375.700000  376.135000       28.000000\n",
       "max     2018.708000  411.240000    411.240000  409.020000       31.000000"
      ]
     },
     "execution_count": 4,
     "metadata": {},
     "output_type": "execute_result"
    }
   ],
   "source": [
    "co2.describe()"
   ]
  },
  {
   "cell_type": "markdown",
   "metadata": {},
   "source": [
    "Definiere ein Dictionary welches alle produzierte Daten speichert!"
   ]
  },
  {
   "cell_type": "code",
   "execution_count": 5,
   "metadata": {},
   "outputs": [
    {
     "data": {
      "image/png": "[encoded data removed]",
      "text/plain": [
       "<Figure size 432x288 with 1 Axes>"
      ]
     },
     "metadata": {
      "needs_background": "light"
     },
     "output_type": "display_data"
    }
   ],
   "source": [
    "viz = co2['Trend']\n",
    "viz.hist()\n",
    "plt.show()"
   ]
  },
  {
   "cell_type": "markdown",
   "metadata": {},
   "source": [
    "Wehlen die interessante aus beiden Dateien, die wir dann zusammen mergen und daraus z.B eine Excel Datei ausstellen."
   ]
  },
  {
   "cell_type": "code",
   "execution_count": 6,
   "metadata": {},
   "outputs": [],
   "source": [
    "\n",
    "for i in range(1960,2014):\n",
    "    co2_filter = co2[['Decimal Date', 'Trend']]\n",
    "    mask = (co2_filter['Decimal Date'].astype(int) == i)\n",
    "    temp = co2_filter.loc[mask]\n",
    "\n",
    "    vc = file[['dt', 'AverageTemperature', 'Country']]\n",
    "    mask1 = (vc['dt'].str.contains(str(i))) & (vc['Country'].str.contains('Germany'))\n",
    "    vc = vc.loc[mask1]\n",
    "    # Add data from Bothe Files to the Dictionary\n",
    "    dic[\"Datum\"].append(i)\n",
    "    dic[\"Trend\"].append(temp['Trend'].mean())\n",
    "    dic[\"Average\"].append(vc['AverageTemperature'].max())\n"
   ]
  },
  {
   "cell_type": "code",
   "execution_count": 7,
   "metadata": {},
   "outputs": [
    {
     "data": {
      "image/png": "[encoded data removed]",
      "text/plain": [
       "<Figure size 432x288 with 1 Axes>"
      ]
     },
     "metadata": {
      "needs_background": "light"
     },
     "output_type": "display_data"
    }
   ],
   "source": [
    "viz_2 = vc['AverageTemperature']\n",
    "viz_2.hist()\n",
    "plt.show()"
   ]
  },
  {
   "cell_type": "code",
   "execution_count": 8,
   "metadata": {},
   "outputs": [
    {
     "data": {
      "text/html": [
       "<div>\n",
       "<style scoped>\n",
       "    .dataframe tbody tr th:only-of-type {\n",
       "        vertical-align: middle;\n",
       "    }\n",
       "\n",
       "    .dataframe tbody tr th {\n",
       "        vertical-align: top;\n",
       "    }\n",
       "\n",
       "    .dataframe thead th {\n",
       "        text-align: right;\n",
       "    }\n",
       "</style>\n",
       "<table border=\"1\" class=\"dataframe\">\n",
       "  <thead>\n",
       "    <tr style=\"text-align: right;\">\n",
       "      <th></th>\n",
       "      <th>AverageTemperature</th>\n",
       "    </tr>\n",
       "  </thead>\n",
       "  <tbody>\n",
       "    <tr>\n",
       "      <th>count</th>\n",
       "      <td>8.000000</td>\n",
       "    </tr>\n",
       "    <tr>\n",
       "      <th>mean</th>\n",
       "      <td>9.235250</td>\n",
       "    </tr>\n",
       "    <tr>\n",
       "      <th>std</th>\n",
       "      <td>8.536675</td>\n",
       "    </tr>\n",
       "    <tr>\n",
       "      <th>min</th>\n",
       "      <td>-0.731000</td>\n",
       "    </tr>\n",
       "    <tr>\n",
       "      <th>25%</th>\n",
       "      <td>0.278750</td>\n",
       "    </tr>\n",
       "    <tr>\n",
       "      <th>50%</th>\n",
       "      <td>10.182000</td>\n",
       "    </tr>\n",
       "    <tr>\n",
       "      <th>75%</th>\n",
       "      <td>16.503500</td>\n",
       "    </tr>\n",
       "    <tr>\n",
       "      <th>max</th>\n",
       "      <td>19.762000</td>\n",
       "    </tr>\n",
       "  </tbody>\n",
       "</table>\n",
       "</div>"
      ],
      "text/plain": [
       "       AverageTemperature\n",
       "count            8.000000\n",
       "mean             9.235250\n",
       "std              8.536675\n",
       "min             -0.731000\n",
       "25%              0.278750\n",
       "50%             10.182000\n",
       "75%             16.503500\n",
       "max             19.762000"
      ]
     },
     "execution_count": 8,
     "metadata": {},
     "output_type": "execute_result"
    }
   ],
   "source": [
    "vc.describe()"
   ]
  },
  {
   "cell_type": "code",
   "execution_count": 9,
   "metadata": {},
   "outputs": [],
   "source": [
    "X = dic[\"Datum\"]\n",
    "Y = dic[\"Trend\"]\n",
    "Z = dic[\"Average\"]"
   ]
  },
  {
   "cell_type": "code",
   "execution_count": 10,
   "metadata": {},
   "outputs": [
    {
     "name": "stdout",
     "output_type": "stream",
     "text": [
      "Length of X:  54\n",
      "Length of Y:  54\n",
      "Length of Z:  54\n"
     ]
    }
   ],
   "source": [
    "print(\"Length of X: \",len(X))\n",
    "print(\"Length of Y: \",len(Y))\n",
    "print(\"Length of Z: \",len(Z))"
   ]
  },
  {
   "cell_type": "code",
   "execution_count": 11,
   "metadata": {},
   "outputs": [],
   "source": [
    "X_train,Y_train,X_test,Y_test = train_test_split(X,Y,train_size=0.2,random_state=0)\n",
    "lin_reg = LinearRegression()"
   ]
  },
  {
   "cell_type": "code",
   "execution_count": 12,
   "metadata": {},
   "outputs": [
    {
     "data": {
      "text/plain": [
       "LinearRegression()"
      ]
     },
     "execution_count": 12,
     "metadata": {},
     "output_type": "execute_result"
    }
   ],
   "source": [
    "X = np.array(X).reshape(-1,1)\n",
    "Y = np.array(Y).reshape(-1,1)\n",
    "lin_reg.fit(X,Y)\n"
   ]
  },
  {
   "cell_type": "markdown",
   "metadata": {},
   "source": [
    "Das Co2 verhält sich bei seiner erhöung wie eine quadratische Funktion."
   ]
  },
  {
   "cell_type": "code",
   "execution_count": 13,
   "metadata": {},
   "outputs": [
    {
     "data": {
      "image/png": "[encoded data removed]",
      "text/plain": [
       "<Figure size 432x288 with 1 Axes>"
      ]
     },
     "metadata": {
      "needs_background": "light"
     },
     "output_type": "display_data"
    }
   ],
   "source": [
    "plt.scatter(X,Y,color='red')\n",
    "plt.plot(X,lin_reg.predict(X),color='blue')\n",
    "plt.title('Linear Regression')\n",
    "plt.xlabel('Year')\n",
    "plt.ylabel('Trend')\n",
    "plt.show()\n"
   ]
  },
  {
   "cell_type": "code",
   "execution_count": 14,
   "metadata": {},
   "outputs": [
    {
     "data": {
      "text/plain": [
       "LinearRegression()"
      ]
     },
     "execution_count": 14,
     "metadata": {},
     "output_type": "execute_result"
    }
   ],
   "source": [
    "poly_reg = PolynomialFeatures(degree=4)\n",
    "X_poly = poly_reg.fit_transform(X)\n",
    "pol_reg = LinearRegression()\n",
    "pol_reg.fit(X_poly,Y)"
   ]
  },
  {
   "cell_type": "markdown",
   "metadata": {},
   "source": [
    "Passing the Linear regression to the Polynomail"
   ]
  },
  {
   "cell_type": "code",
   "execution_count": 15,
   "metadata": {},
   "outputs": [
    {
     "data": {
      "image/png": "[encoded data removed]",
      "text/plain": [
       "<Figure size 432x288 with 1 Axes>"
      ]
     },
     "metadata": {
      "needs_background": "light"
     },
     "output_type": "display_data"
    }
   ],
   "source": [
    "plt.scatter(X,Y,color='red')\n",
    "plt.plot(X,pol_reg.predict(poly_reg.fit_transform(X)),color='green')\n",
    "plt.title('Linear Poly Reg')\n",
    "plt.xlabel('Date')\n",
    "plt.ylabel('Trend')\n",
    "plt.show()"
   ]
  },
  {
   "cell_type": "markdown",
   "metadata": {},
   "source": [
    "Daten in Dictionary schreiben. Index ist hier einzuhalten."
   ]
  },
  {
   "cell_type": "code",
   "execution_count": 16,
   "metadata": {},
   "outputs": [],
   "source": [
    "for s in range(2014,2050):\n",
    "\n",
    "    dic[\"Trend\"].append(float(str(pol_reg.predict(poly_reg.fit_transform([[s]])))[1:-1][1:-1]))\n",
    "\n"
   ]
  },
  {
   "cell_type": "code",
   "execution_count": 17,
   "metadata": {},
   "outputs": [
    {
     "data": {
      "text/plain": [
       "LinearRegression()"
      ]
     },
     "execution_count": 17,
     "metadata": {},
     "output_type": "execute_result"
    }
   ],
   "source": [
    "X_train,Z_train,X_test,Z_test = train_test_split(X,Z,train_size=0.2,random_state=0)\n",
    "lin_reg_z = LinearRegression()\n",
    "Z = np.array(Z).reshape(-1,1)\n",
    "lin_reg_z.fit(X,Z)"
   ]
  },
  {
   "cell_type": "code",
   "execution_count": 18,
   "metadata": {},
   "outputs": [
    {
     "data": {
      "text/plain": [
       "LinearRegression()"
      ]
     },
     "execution_count": 18,
     "metadata": {},
     "output_type": "execute_result"
    }
   ],
   "source": [
    "poly_reg = PolynomialFeatures(degree=4)\n",
    "X_poly = poly_reg.fit_transform(X)\n",
    "pol_reg = LinearRegression()\n",
    "pol_reg.fit(X_poly,Z)"
   ]
  },
  {
   "cell_type": "markdown",
   "metadata": {},
   "source": [
    "Die deutsche durchschnittliche Max Temperatur zeigt fast eine Lineare verhalten."
   ]
  },
  {
   "cell_type": "code",
   "execution_count": 19,
   "metadata": {},
   "outputs": [
    {
     "data": {
      "image/png": "[encoded data removed]",
      "text/plain": [
       "<Figure size 432x288 with 1 Axes>"
      ]
     },
     "metadata": {
      "needs_background": "light"
     },
     "output_type": "display_data"
    }
   ],
   "source": [
    "plt.scatter(X,Z,color='red')\n",
    "plt.plot(X,lin_reg_z.predict(X),color='blue')\n",
    "plt.title('Linear Regression')\n",
    "plt.xlabel(\"Datum\")\n",
    "plt.ylabel(\"Average Temperature\")\n",
    "plt.show()\n"
   ]
  },
  {
   "cell_type": "code",
   "execution_count": 20,
   "metadata": {},
   "outputs": [],
   "source": [
    "for f in range(2014,2050):\n",
    "    dic[\"Datum\"].append(f)\n",
    "    dic[\"Average\"].append(float(str(pol_reg.predict(poly_reg.fit_transform([[f]])))[1:-1][1:-1]))"
   ]
  },
  {
   "cell_type": "markdown",
   "metadata": {},
   "source": [
    "Hier fehlt das Random Error! T_T"
   ]
  },
  {
   "cell_type": "code",
   "execution_count": 21,
   "metadata": {},
   "outputs": [
    {
     "data": {
      "image/png": "[encoded data removed]",
      "text/plain": [
       "<Figure size 432x288 with 1 Axes>"
      ]
     },
     "metadata": {
      "needs_background": "light"
     },
     "output_type": "display_data"
    }
   ],
   "source": [
    "plt.scatter(dic[\"Datum\"],dic[\"Average\"],color='red')\n",
    "plt.plot(X,pol_reg.predict(poly_reg.fit_transform(X)),color='blue')\n",
    "plt.title('Polynomial Regression')\n",
    "plt.xlabel(\"Datum\")\n",
    "plt.ylabel(\"Average Temperature\")\n",
    "plt.show()"
   ]
  },
  {
   "cell_type": "code",
   "execution_count": 22,
   "metadata": {},
   "outputs": [
    {
     "data": {
      "image/png": "[encoded data removed]",
      "text/plain": [
       "<Figure size 432x288 with 1 Axes>"
      ]
     },
     "metadata": {
      "needs_background": "light"
     },
     "output_type": "display_data"
    }
   ],
   "source": [
    "F1 = dic[\"Datum\"]\n",
    "F2 = dic[\"Average\"]\n",
    "F1 = np.array(F1).reshape(-1,1)\n",
    "F2 = np.array(F2).reshape(-1,1)\n",
    "lin_reg_z.fit(F1,F2)\n",
    "plt.scatter(F1,F2,color='red')\n",
    "plt.plot(F1,pol_reg.predict(poly_reg.fit_transform(F1)),color='blue')\n",
    "plt.title('Linear Regression')\n",
    "plt.xlabel(\"Datum\")\n",
    "plt.ylabel(\"Average Temperature\")\n",
    "plt.show()"
   ]
  },
  {
   "cell_type": "code",
   "execution_count": 23,
   "metadata": {},
   "outputs": [
    {
     "name": "stdout",
     "output_type": "stream",
     "text": [
      "Generating CSV File...\n",
      "OK, File Saved\n",
      "Generating Excel File...\n",
      "OK, File Saved\n"
     ]
    }
   ],
   "source": [
    "def export_excel():\n",
    "    print(\"Generating Excel File...\")\n",
    "    df = pd.DataFrame.from_dict(dic)\n",
    "    df.to_excel(\"Testing_Data_Excel.xlsx\", index=False, startcol=0, startrow=0, header=True)\n",
    "    print(\"OK, File Saved\")\n",
    "    pass\n",
    "\n",
    "def export_csv():\n",
    "    print(\"Generating CSV File...\")\n",
    "    df = pd.DataFrame.from_dict(dic)\n",
    "    df.to_csv(\"Testing_Data_csv.csv\", index=False,header=True)\n",
    "    print(\"OK, File Saved\")\n",
    "    pass\n",
    "\n",
    "\n",
    "export_csv()\n",
    "export_excel()"
   ]
  },
  {
   "cell_type": "markdown",
   "metadata": {},
   "source": [
    "References that been used for the Project\n",
    "\n",
    "1. GlobaleLandTempertureByCountry.csv :_ \n",
    "   https://www.kaggle.com/berkeleyearth/climate-change-earth-surface-temperature-data\n",
    "   \n",
    "2. CO2 Messungen:_ https://datahub.io/core/co2-ppm\n",
    "\n",
    "3. Code for Polynomial Regression :_ https://towardsdatascience.com/machine-learning-polynomial-regression-with-python-5328e4e8a386\n",
    "\n",
    "4. Weitere Methoden/Techniken unter Cognative Class. Corse Name, Machine Learning with Python.\n",
    "\n",
    "5. Intro to Polynomial/ Linear Regression:_ https://towardsdatascience.com/introduction-to-linear-regression-and-polynomial-regression-f8adc96f31cb\n",
    "\n",
    "6. Pandas Tutorial for Machine Learning:_ https://www.learndatasci.com/tutorials/python-pandas-tutorial-complete-introduction-for-beginners/\n",
    "\n",
    "7. Matplotlibe tutorial:_ https://www.g-webservice.de/python-machine-learning-tutorial/ \n",
    "\n",
    "\n",
    "   "
   ]
  },
  {
   "cell_type": "code",
   "execution_count": null,
   "metadata": {},
   "outputs": [],
   "source": []
  }
 ],
 "metadata": {
  "kernelspec": {
   "display_name": "Python 3",
   "language": "python",
   "name": "python3"
  },
  "language_info": {
   "codemirror_mode": {
    "name": "ipython",
    "version": 3
   },
   "file_extension": ".py",
   "mimetype": "text/x-python",
   "name": "python",
   "nbconvert_exporter": "python",
   "pygments_lexer": "ipython3",
   "version": "3.7.3"
  }
 },
 "nbformat": 4,
 "nbformat_minor": 4
}
